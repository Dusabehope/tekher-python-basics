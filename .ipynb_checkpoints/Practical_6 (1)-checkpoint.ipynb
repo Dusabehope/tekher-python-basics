{
 "cells": [
  {
   "cell_type": "markdown",
   "id": "bd6f6199",
   "metadata": {},
   "source": [
    "# Practical_6: Numpy"
   ]
  },
  {
   "cell_type": "markdown",
   "id": "de325ed6",
   "metadata": {},
   "source": [
    "---\n",
    "\n",
    "### Exercise 1:\n",
    "Create a NumPy array of integers from 1 to 10.\n"
   ]
  },
  {
   "cell_type": "code",
   "execution_count": 17,
   "id": "9b904697",
   "metadata": {},
   "outputs": [
    {
     "name": "stdout",
     "output_type": "stream",
     "text": [
      "[ 1  2  3  4  5  6  7  8  9 10]\n"
     ]
    }
   ],
   "source": [
    "# Exercise 1\n",
    "import numpy as np\n",
    "arra=np.arange(1,11)\n",
    "print(arra)\n",
    "\n"
   ]
  },
  {
   "cell_type": "markdown",
   "id": "745710c7",
   "metadata": {},
   "source": [
    "\n",
    "---\n",
    "\n",
    "### Exercise 2:\n",
    "Create a 3x3 NumPy array filled with zeros.\n"
   ]
  },
  {
   "cell_type": "code",
   "execution_count": 20,
   "id": "875235f1",
   "metadata": {},
   "outputs": [
    {
     "name": "stdout",
     "output_type": "stream",
     "text": [
      "[[0. 0. 0.]\n",
      " [0. 0. 0.]\n",
      " [0. 0. 0.]]\n"
     ]
    }
   ],
   "source": [
    "# Exercise 2\n",
    "import numpy as np\n",
    "matrix=np.zeros((3,3))\n",
    "print(matrix)"
   ]
  },
  {
   "cell_type": "markdown",
   "id": "a542ea80",
   "metadata": {},
   "source": [
    "\n",
    "---\n",
    "\n",
    "### Exercise 3:\n",
    "Create a NumPy array of 10 evenly spaced numbers between 0 and 5.\n"
   ]
  },
  {
   "cell_type": "code",
   "execution_count": 16,
   "id": "97c6ba4a",
   "metadata": {},
   "outputs": [
    {
     "name": "stdout",
     "output_type": "stream",
     "text": [
      "[0.         0.55555556 1.11111111 1.66666667 2.22222222 2.77777778\n",
      " 3.33333333 3.88888889 4.44444444 5.        ]\n"
     ]
    }
   ],
   "source": [
    "# Exercise 3\n",
    "import numpy as np \n",
    "num_1=np.linspace(0,5,10)\n",
    "print(num_1)"
   ]
  },
  {
   "cell_type": "markdown",
   "id": "7cf17117-88fc-4cbc-8007-caecd0900fbb",
   "metadata": {},
   "source": [
    "# Exercise 4"
   ]
  },
  {
   "cell_type": "code",
   "execution_count": 29,
   "id": "bdf6b1f9-dc99-4224-9727-0d7a4fc9586b",
   "metadata": {},
   "outputs": [
    {
     "name": "stdout",
     "output_type": "stream",
     "text": [
      "[[1. 0. 0. 0. 0.]\n",
      " [0. 1. 0. 0. 0.]\n",
      " [0. 0. 1. 0. 0.]\n",
      " [0. 0. 0. 1. 0.]\n",
      " [0. 0. 0. 0. 1.]]\n"
     ]
    }
   ],
   "source": [
    "#  Create a 5x5 identity matrix using NumPy.# Exercise\n",
    "import numpy as np\n",
    "identity_matrix = np.eye(5)\n",
    "print(identity_matrix)"
   ]
  },
  {
   "cell_type": "markdown",
   "id": "a16f88e7",
   "metadata": {},
   "source": [
    "\n",
    "---\n",
    "\n",
    "### Exercise 5:\n",
    "Create a 4x4 matrix with random values between 0 and 1.\n"
   ]
  },
  {
   "cell_type": "code",
   "execution_count": 32,
   "id": "2b16922b",
   "metadata": {},
   "outputs": [
    {
     "name": "stdout",
     "output_type": "stream",
     "text": [
      "[[0.57282564 0.8425614  0.79228986 0.4438535 ]\n",
      " [0.49282707 0.37465485 0.60200846 0.19867406]\n",
      " [0.509927   0.09173576 0.15046728 0.54950655]\n",
      " [0.46971381 0.47856628 0.17406286 0.52598802]]\n"
     ]
    }
   ],
   "source": [
    "# Exercise 5\n",
    "random_1=np.random.rand(4,4)\n",
    "print(random_1)"
   ]
  },
  {
   "cell_type": "markdown",
   "id": "cc9af8fd",
   "metadata": {},
   "source": [
    "\n",
    "---\n",
    "\n",
    "### Exercise 6:\n",
    "Find the shape of a NumPy array.\n"
   ]
  },
  {
   "cell_type": "code",
   "execution_count": 28,
   "id": "359864d2",
   "metadata": {},
   "outputs": [
    {
     "name": "stdout",
     "output_type": "stream",
     "text": [
      "(2, 3)\n"
     ]
    }
   ],
   "source": [
    "# Exercise 6\n",
    "a=np.array([[1,1,2],[2,2,3]])\n",
    "print(a.shape)"
   ]
  },
  {
   "cell_type": "markdown",
   "id": "ada0aff6",
   "metadata": {},
   "source": [
    "\n",
    "---\n",
    "\n",
    "### Exercise 7:\n",
    "Reshape a 1D NumPy array of 16 elements into a 4x4 matrix.\n"
   ]
  },
  {
   "cell_type": "code",
   "execution_count": 3,
   "id": "43fcb4b3",
   "metadata": {},
   "outputs": [
    {
     "name": "stdout",
     "output_type": "stream",
     "text": [
      "[[ 1  2  3  4]\n",
      " [ 5  6  7  8]\n",
      " [ 9 10 11 12]\n",
      " [13 14 15 16]]\n"
     ]
    }
   ],
   "source": [
    "# Exercise 7\n",
    "import numpy as np\n",
    "\n",
    "arr_1d = np.arange(1, 17)  \n",
    "arr_4x4 = np.reshape(arr_1d, (4, 4))\n",
    "print(arr_4x4)\n"
   ]
  },
  {
   "cell_type": "markdown",
   "id": "d384142a",
   "metadata": {},
   "source": [
    "\n",
    "---\n",
    "\n",
    "### Exercise 8:\n",
    "Find the data type of the elements in a NumPy array.\n"
   ]
  },
  {
   "cell_type": "code",
   "execution_count": 7,
   "id": "bf4dca5a",
   "metadata": {},
   "outputs": [
    {
     "name": "stdout",
     "output_type": "stream",
     "text": [
      "int32\n"
     ]
    }
   ],
   "source": [
    "# Exercise 8\n",
    "data_1=np.array([[1,1,2],[2,2,3]])\n",
    "print(data_1.dtype)"
   ]
  },
  {
   "cell_type": "markdown",
   "id": "c295ca54",
   "metadata": {},
   "source": [
    "\n",
    "---\n",
    "\n",
    "### Exercise 9:\n",
    "Create a NumPy array of integers from 1 to 100 and find all even numbers in the array.\n"
   ]
  },
  {
   "cell_type": "code",
   "execution_count": 13,
   "id": "28a61c5e",
   "metadata": {},
   "outputs": [
    {
     "name": "stdout",
     "output_type": "stream",
     "text": [
      "[  2   4   6   8  10  12  14  16  18  20  22  24  26  28  30  32  34  36\n",
      "  38  40  42  44  46  48  50  52  54  56  58  60  62  64  66  68  70  72\n",
      "  74  76  78  80  82  84  86  88  90  92  94  96  98 100]\n"
     ]
    }
   ],
   "source": [
    "# Exercise 9\n",
    "arr=np.arange(1,101)\n",
    "even_num=arr[arr%2==0]\n",
    "print(even_num)\n"
   ]
  },
  {
   "cell_type": "markdown",
   "id": "72103956",
   "metadata": {},
   "source": [
    "\n",
    "---\n",
    "\n",
    "### Exercise 10:\n",
    "Generate a 6x6 matrix of random integers between 10 and 50.\n"
   ]
  },
  {
   "cell_type": "code",
   "execution_count": 20,
   "id": "ce04300e",
   "metadata": {},
   "outputs": [
    {
     "name": "stdout",
     "output_type": "stream",
     "text": [
      "[[23 49 49 38 23 22]\n",
      " [44 47 10 38 19 46]\n",
      " [39 30 42 40 10 43]\n",
      " [48 28 17 30 22 49]\n",
      " [32 40 15 23 38 22]\n",
      " [21 31 41 25 42 31]]\n"
     ]
    }
   ],
   "source": [
    "# Exercise 10\n",
    "matrix = np.random.randint(10, 50, size=(6, 6))\n",
    "print(matrix)"
   ]
  },
  {
   "cell_type": "markdown",
   "id": "3dd1a085",
   "metadata": {},
   "source": [
    "\n",
    "---\n",
    "\n",
    "### Exercise 11:\n",
    "Slice a 2D NumPy array to extract a submatrix.\n"
   ]
  },
  {
   "cell_type": "code",
   "execution_count": 25,
   "id": "b8fc90ba",
   "metadata": {},
   "outputs": [
    {
     "name": "stdout",
     "output_type": "stream",
     "text": [
      "[[ 6  7]\n",
      " [10 11]]\n"
     ]
    }
   ],
   "source": [
    "# Exercise 11\n",
    "a = np.array([\n",
    "    [1, 2, 3, 4],\n",
    "    [5, 6, 7, 8],\n",
    "    [9, 10, 11, 12],\n",
    "    [13, 14, 15, 16]\n",
    "])\n",
    "\n",
    "submatrix = a[1:3, 1:3]\n",
    "print(submatrix)\n",
    "\n"
   ]
  },
  {
   "cell_type": "markdown",
   "id": "73a4344c",
   "metadata": {},
   "source": [
    "\n",
    "---\n",
    "\n",
    "### Exercise 12:\n",
    "Calculate the sum of all elements in a NumPy array.\n"
   ]
  },
  {
   "cell_type": "code",
   "execution_count": 29,
   "id": "3c417ff3",
   "metadata": {},
   "outputs": [
    {
     "name": "stdout",
     "output_type": "stream",
     "text": [
      "45\n"
     ]
    }
   ],
   "source": [
    "# Exercise 12\n",
    "arr = np.array([[1, 2, 3],\n",
    "                [4, 5, 6],\n",
    "                [7, 8, 9]])\n",
    "total_sum = arr.sum()\n",
    "print(total_sum)"
   ]
  },
  {
   "cell_type": "markdown",
   "id": "c2346362",
   "metadata": {},
   "source": [
    "\n",
    "---\n",
    "\n",
    "### Exercise 13:\n",
    "Calculate the mean, median, and standard deviation of a NumPy array.\n"
   ]
  },
  {
   "cell_type": "code",
   "execution_count": 31,
   "id": "95e57182",
   "metadata": {},
   "outputs": [
    {
     "name": "stdout",
     "output_type": "stream",
     "text": [
      "5.5\n",
      "5.5\n",
      "2.8722813232690143\n"
     ]
    }
   ],
   "source": [
    "# Exercise 13\n",
    "\n",
    "arr = np.array([1, 2, 3, 4, 5, 6, 7, 8, 9, 10])\n",
    "\n",
    "# Calculate mean\n",
    "mean_val = np.mean(arr)\n",
    "\n",
    "# Calculate median\n",
    "median_val = np.median(arr)\n",
    "\n",
    "# Calculate standard deviation\n",
    "std_dev = np.std(arr)\n",
    "\n",
    "print( mean_val)\n",
    "print( median_val)\n",
    "print( std_dev)\n"
   ]
  },
  {
   "cell_type": "markdown",
   "id": "67a4fdbd",
   "metadata": {},
   "source": [
    "\n",
    "---\n",
    "\n",
    "### Exercise 14:\n",
    "Find the maximum and minimum values in a NumPy array.\n"
   ]
  },
  {
   "cell_type": "code",
   "execution_count": 33,
   "id": "7959c765",
   "metadata": {},
   "outputs": [
    {
     "name": "stdout",
     "output_type": "stream",
     "text": [
      "42\n",
      "3\n"
     ]
    }
   ],
   "source": [
    "# Exercise 14\n",
    "arr = np.array([10, 25, 7, 42, 18, 3])\n",
    "\n",
    "max_val = np.max(arr)\n",
    "min_val = np.min(arr)\n",
    "\n",
    "print( max_val)\n",
    "print( min_val)"
   ]
  },
  {
   "cell_type": "markdown",
   "id": "8a705cd1",
   "metadata": {},
   "source": [
    "\n",
    "---\n",
    "\n",
    "### Exercise 15:\n",
    "Create a NumPy array of 20 random integers and find the index of the maximum value.\n"
   ]
  },
  {
   "cell_type": "code",
   "execution_count": 35,
   "id": "c6748d73",
   "metadata": {},
   "outputs": [
    {
     "name": "stdout",
     "output_type": "stream",
     "text": [
      "[ 2 65 10 31 84 26 40 37 37 60 37 47 95 97  8 98  1 49 97 38]\n",
      "15\n",
      "98\n"
     ]
    }
   ],
   "source": [
    "# Exercise 15\n",
    "arr = np.random.randint(0, 100, size=20)\n",
    "\n",
    "\n",
    "max_index = np.argmax(arr)\n",
    "\n",
    "print( arr)\n",
    "print( max_index)\n",
    "print( arr[max_index])"
   ]
  },
  {
   "cell_type": "markdown",
   "id": "467ca6ac",
   "metadata": {},
   "source": [
    "\n",
    "---\n",
    "\n",
    "### Exercise 16:\n",
    "Create a NumPy array and reverse its elements.\n"
   ]
  },
  {
   "cell_type": "code",
   "execution_count": 38,
   "id": "0a178eb6",
   "metadata": {},
   "outputs": [
    {
     "name": "stdout",
     "output_type": "stream",
     "text": [
      "[1 2 3 4 5]\n",
      "[5 4 3 2 1]\n"
     ]
    }
   ],
   "source": [
    "# Exercise 16\n",
    "arr = np.array([1, 2, 3, 4, 5])\n",
    "\n",
    "\n",
    "reversed_arr = arr[::-1]\n",
    "\n",
    "print( arr)\n",
    "print( reversed_arr)\n"
   ]
  },
  {
   "cell_type": "markdown",
   "id": "b7d8ec92",
   "metadata": {},
   "source": [
    "\n",
    "---\n",
    "\n",
    "### Exercise 17:\n",
    "Create a 3x3 matrix and multiply it element-wise by another 3x3 matrix.\n"
   ]
  },
  {
   "cell_type": "code",
   "execution_count": 44,
   "id": "847ddc05",
   "metadata": {},
   "outputs": [
    {
     "name": "stdout",
     "output_type": "stream",
     "text": [
      "[[1 2 3]\n",
      " [4 1 2]\n",
      " [3 2 0]]\n",
      "[[0 1 2]\n",
      " [2 5 1]\n",
      " [2 2 1]]\n",
      "[[0 2 6]\n",
      " [8 5 2]\n",
      " [6 4 0]]\n"
     ]
    }
   ],
   "source": [
    "# Exercise 17\n",
    "A = np.array([[1, 2, 3],\n",
    "              [4, 1, 2],\n",
    "              [3, 2, 0]])\n",
    "\n",
    "B = np.array([[0, 1, 2],\n",
    "              [2, 5, 1],\n",
    "              [2, 2, 1]])\n",
    "\n",
    "\n",
    "result = A * B\n",
    "\n",
    "print( A)\n",
    "print( B)\n",
    "print( result)"
   ]
  },
  {
   "cell_type": "markdown",
   "id": "58512446",
   "metadata": {},
   "source": [
    "\n",
    "---\n",
    "\n",
    "### Exercise 18:\n",
    "Create a diagonal matrix from a given 1D array.\n"
   ]
  },
  {
   "cell_type": "code",
   "execution_count": 48,
   "id": "bd7e9321",
   "metadata": {},
   "outputs": [
    {
     "name": "stdout",
     "output_type": "stream",
     "text": [
      "[2 4 6]\n",
      "[[2 0 0]\n",
      " [0 4 0]\n",
      " [0 0 6]]\n"
     ]
    }
   ],
   "source": [
    "# Exercise 18\n",
    "arr = np.array([2, 4, 6])\n",
    "diag_matrix = np.diag(arr)\n",
    "\n",
    "print( arr)\n",
    "print(diag_matrix)"
   ]
  },
  {
   "cell_type": "markdown",
   "id": "10be19e0",
   "metadata": {},
   "source": [
    "\n",
    "---\n",
    "\n",
    "### Exercise 19:\n",
    "Perform matrix multiplication on two 2D NumPy arrays.\n"
   ]
  },
  {
   "cell_type": "code",
   "execution_count": 64,
   "id": "c287973c",
   "metadata": {},
   "outputs": [
    {
     "name": "stdout",
     "output_type": "stream",
     "text": [
      "[[38 44]\n",
      " [26 30]]\n"
     ]
    }
   ],
   "source": [
    "# Exercise 19\n",
    "A = np.array([[2, 4],\n",
    "              [1, 3]])\n",
    "\n",
    "B = np.array([[5, 6],\n",
    "              [7, 8]])\n",
    "\n",
    "\n",
    "result = A @ B\n",
    "print(result)"
   ]
  },
  {
   "cell_type": "markdown",
   "id": "932aa100",
   "metadata": {},
   "source": [
    "\n",
    "---\n",
    "\n",
    "### Exercise 20:\n",
    "Flatten a 2D NumPy array into a 1D array.\n"
   ]
  },
  {
   "cell_type": "code",
   "execution_count": 59,
   "id": "0b2a7505",
   "metadata": {},
   "outputs": [
    {
     "name": "stdout",
     "output_type": "stream",
     "text": [
      "[[1 2 3]\n",
      " [4 5 6]]\n",
      "[1 2 3 4 5 6]\n"
     ]
    }
   ],
   "source": [
    "# Exercise 20\n",
    "arr_2d = np.array([[1, 2, 3],\n",
    "                   [4, 5, 6]])\n",
    "arr_1d = arr_2d.flatten()\n",
    "print( arr_2d)\n",
    "print( arr_1d)"
   ]
  },
  {
   "cell_type": "markdown",
   "id": "43e4204e",
   "metadata": {},
   "source": [
    "\n",
    "---\n",
    "\n",
    "### Exercise 21:\n",
    "Stack two NumPy arrays vertically.\n"
   ]
  },
  {
   "cell_type": "code",
   "execution_count": 62,
   "id": "2fab6ed6",
   "metadata": {},
   "outputs": [
    {
     "name": "stdout",
     "output_type": "stream",
     "text": [
      "[1 2 3]\n",
      "[4 5 6]\n",
      "[[1 2 3]\n",
      " [4 5 6]]\n"
     ]
    }
   ],
   "source": [
    "# Exercise 21\n",
    "a = np.array([1, 2, 3])\n",
    "b = np.array([4, 5, 6])\n",
    "\n",
    "result = np.vstack((a, b))\n",
    "\n",
    "print( a)\n",
    "print( b)\n",
    "print(result)"
   ]
  },
  {
   "cell_type": "code",
   "execution_count": null,
   "id": "24424035-d09e-44d4-8d56-77652ca2596f",
   "metadata": {},
   "outputs": [],
   "source": [
    "\n",
    "---\n",
    "\n",
    "### Exercise 22:\n",
    "Stack two NumPy arrays horizontally.\n"
   ]
  },
  {
   "cell_type": "code",
   "execution_count": 70,
   "id": "38c62fcb",
   "metadata": {},
   "outputs": [
    {
     "name": "stdout",
     "output_type": "stream",
     "text": [
      "[1 2 3]\n",
      "[4 5 6]\n",
      "[1 2 3 4 5 6]\n"
     ]
    }
   ],
   "source": [
    "# Exercise 22\n",
    "a = np.array([1, 2, 3])\n",
    "b = np.array([4, 5, 6])\n",
    "\n",
    "result = np.hstack((a, b))\n",
    "print( a)\n",
    "print( b)\n",
    "print( result)"
   ]
  },
  {
   "cell_type": "markdown",
   "id": "348ee442",
   "metadata": {},
   "source": [
    "\n",
    "---\n",
    "\n",
    "### Exercise 23:\n",
    "Split a NumPy array into multiple sub-arrays.\n"
   ]
  },
  {
   "cell_type": "code",
   "execution_count": 72,
   "id": "bb591997",
   "metadata": {},
   "outputs": [
    {
     "name": "stdout",
     "output_type": "stream",
     "text": [
      "Sub-array 1: [10 20]\n",
      "Sub-array 2: [30 40]\n",
      "Sub-array 3: [50 60]\n"
     ]
    }
   ],
   "source": [
    "# Exercise 23\n",
    "arr = np.array([10, 20, 30, 40, 50, 60])\n",
    "\n",
    "sub_arrays = np.split(arr, 3)\n",
    "\n",
    "for i, sub in enumerate(sub_arrays):\n",
    "    print(f\"Sub-array {i+1}: {sub}\")"
   ]
  },
  {
   "cell_type": "markdown",
   "id": "b1f38f5f",
   "metadata": {},
   "source": [
    "\n",
    "---\n",
    "\n",
    "### Exercise 24:\n",
    "Generate a random NumPy array and round each element to two decimal places.\n"
   ]
  },
  {
   "cell_type": "code",
   "execution_count": 80,
   "id": "9627a34c",
   "metadata": {},
   "outputs": [
    {
     "name": "stdout",
     "output_type": "stream",
     "text": [
      "[[0.03725226 0.23571443 0.92082472]\n",
      " [0.80911177 0.52463779 0.75848728]\n",
      " [0.3848102  0.48818805 0.8584211 ]]\n",
      "[[0.04 0.24 0.92]\n",
      " [0.81 0.52 0.76]\n",
      " [0.38 0.49 0.86]]\n"
     ]
    }
   ],
   "source": [
    "# Exercise 24\n",
    "arr = np.random.rand(3, 3)\n",
    "rounded_arr = np.round(arr, 2)\n",
    "\n",
    "print( arr)\n",
    "print( rounded_arr)"
   ]
  },
  {
   "cell_type": "markdown",
   "id": "33eff49a",
   "metadata": {},
   "source": [
    "\n",
    "---\n",
    "\n",
    "### Exercise 25:\n",
    "Find the unique elements of a NumPy array.\n"
   ]
  },
  {
   "cell_type": "code",
   "execution_count": 82,
   "id": "820d6014",
   "metadata": {},
   "outputs": [
    {
     "name": "stdout",
     "output_type": "stream",
     "text": [
      "[1 2 2 3 4 4 5 1 6]\n",
      "[1 2 3 4 5 6]\n"
     ]
    }
   ],
   "source": [
    "# Exercise 25\n",
    "arr = np.array([1, 2, 2, 3, 4, 4, 5, 1, 6])\n",
    "unique_elements = np.unique(arr)\n",
    "\n",
    "print( arr)\n",
    "print( unique_elements)\n"
   ]
  },
  {
   "cell_type": "markdown",
   "id": "a82dfd26",
   "metadata": {},
   "source": [
    "\n",
    "---\n",
    "\n",
    "### Exercise 26:\n",
    "Replace all elements in a NumPy array that are less than a specific value with that value.\n"
   ]
  },
  {
   "cell_type": "code",
   "execution_count": 84,
   "id": "9317d8ff",
   "metadata": {},
   "outputs": [
    {
     "name": "stdout",
     "output_type": "stream",
     "text": [
      "[5 7 5 9 5 6]\n"
     ]
    }
   ],
   "source": [
    "# Exercise 26\n",
    "arr = np.array([2, 7, 1, 9, 4, 6])\n",
    "arr[arr < 5] = 5\n",
    "print(arr)"
   ]
  },
  {
   "cell_type": "markdown",
   "id": "0b211e1c",
   "metadata": {},
   "source": [
    "\n",
    "---\n",
    "\n",
    "### Exercise 27:\n",
    "Find the cumulative sum of the elements in a NumPy array.\n"
   ]
  },
  {
   "cell_type": "code",
   "execution_count": 86,
   "id": "d03b7264",
   "metadata": {},
   "outputs": [
    {
     "name": "stdout",
     "output_type": "stream",
     "text": [
      "[1 2 3 4 5]\n",
      "[ 1  3  6 10 15]\n"
     ]
    }
   ],
   "source": [
    "# Exercise 27\n",
    "arr = np.array([1, 2, 3, 4, 5])\n",
    "cumsum_arr = np.cumsum(arr)\n",
    "print( arr)\n",
    "print(cumsum_arr)"
   ]
  },
  {
   "cell_type": "markdown",
   "id": "837642b7",
   "metadata": {},
   "source": [
    "\n",
    "---\n",
    "\n",
    "### Exercise 28:\n",
    "Create a NumPy array and find the number of non-zero elements in it.\n"
   ]
  },
  {
   "cell_type": "code",
   "execution_count": 88,
   "id": "fa2565c6",
   "metadata": {},
   "outputs": [
    {
     "name": "stdout",
     "output_type": "stream",
     "text": [
      "[0 3 0 4 5 0 6]\n",
      "4\n"
     ]
    }
   ],
   "source": [
    "# Exercise 28\n",
    "arr = np.array([0, 3, 0, 4, 5, 0, 6])\n",
    "non_zero_count = np.count_nonzero(arr)\n",
    "print( arr)\n",
    "print( non_zero_count)"
   ]
  },
  {
   "cell_type": "markdown",
   "id": "7d1f3704",
   "metadata": {},
   "source": [
    "\n",
    "---\n",
    "\n",
    "### Exercise 29:\n",
    "Create a NumPy array of random integers and sort it in ascending order.\n"
   ]
  },
  {
   "cell_type": "code",
   "execution_count": 92,
   "id": "dfa23a6e",
   "metadata": {},
   "outputs": [
    {
     "name": "stdout",
     "output_type": "stream",
     "text": [
      "[34  8 55 46  7 23 62 17 42 98]\n",
      "[ 7  8 17 23 34 42 46 55 62 98]\n"
     ]
    }
   ],
   "source": [
    "# Exercise 29\n",
    "arr = np.random.randint(1, 101, size=10)\n",
    "print( arr)\n",
    "sorted_arr = np.sort(arr)\n",
    "print(sorted_arr)"
   ]
  },
  {
   "cell_type": "markdown",
   "id": "295b7ea8",
   "metadata": {},
   "source": [
    "\n",
    "---\n",
    "\n",
    "### Exercise 30:\n",
    "Find the row-wise and column-wise sum of a 3x3 matrix.\n"
   ]
  },
  {
   "cell_type": "code",
   "execution_count": 94,
   "id": "963df701",
   "metadata": {},
   "outputs": [
    {
     "name": "stdout",
     "output_type": "stream",
     "text": [
      "[[1 2 3]\n",
      " [4 5 6]\n",
      " [7 8 9]]\n",
      "[ 6 15 24]\n",
      "[12 15 18]\n"
     ]
    }
   ],
   "source": [
    "# Exercise 30\n",
    "matrix = np.array([[1, 2, 3],\n",
    "                   [4, 5, 6],\n",
    "                   [7, 8, 9]])\n",
    "row_sum = np.sum(matrix, axis=1)\n",
    "col_sum = np.sum(matrix, axis=0)\n",
    "\n",
    "print(matrix)\n",
    "print( row_sum)\n",
    "print( col_sum)\n"
   ]
  },
  {
   "cell_type": "markdown",
   "id": "158756fa",
   "metadata": {},
   "source": [
    "\n",
    "---\n",
    "\n",
    "### Exercise 31:\n",
    "Generate a 2D NumPy array with random values and normalize it (scale the values between 0 and 1).\n"
   ]
  },
  {
   "cell_type": "code",
   "execution_count": 96,
   "id": "32ba8b29",
   "metadata": {},
   "outputs": [
    {
     "name": "stdout",
     "output_type": "stream",
     "text": [
      "[[51 40 88]\n",
      " [91 88 33]\n",
      " [42 83 48]]\n",
      "[[0.31034483 0.12068966 0.94827586]\n",
      " [1.         0.94827586 0.        ]\n",
      " [0.15517241 0.86206897 0.25862069]]\n"
     ]
    }
   ],
   "source": [
    "# Exercise 31\n",
    "arr = np.random.randint(10, 100, size=(3, 3))\n",
    "normalized_arr = (arr - arr.min()) / (arr.max() - arr.min())\n",
    "\n",
    "print( arr)\n",
    "print( normalized_arr)"
   ]
  },
  {
   "cell_type": "markdown",
   "id": "d3eeceaa",
   "metadata": {},
   "source": [
    "\n",
    "---\n",
    "\n",
    "### Exercise 32:\n",
    "Create two NumPy arrays and find the dot product.\n"
   ]
  },
  {
   "cell_type": "code",
   "execution_count": 98,
   "id": "5722e16b",
   "metadata": {},
   "outputs": [
    {
     "name": "stdout",
     "output_type": "stream",
     "text": [
      "[1 2 3]\n",
      "[4 5 6]\n",
      "32\n"
     ]
    }
   ],
   "source": [
    "# Exercise 32\n",
    "a = np.array([1, 2, 3])\n",
    "b = np.array([4, 5, 6])\n",
    "dot_product = np.dot(a, b)\n",
    "print( a)\n",
    "print( b)\n",
    "print( dot_product)"
   ]
  },
  {
   "cell_type": "markdown",
   "id": "5b0c848f",
   "metadata": {},
   "source": [
    "\n",
    "---\n",
    "\n",
    "### Exercise 33:\n",
    "Find the trace of a square NumPy matrix.\n"
   ]
  },
  {
   "cell_type": "code",
   "execution_count": 100,
   "id": "6d6e90c2",
   "metadata": {},
   "outputs": [
    {
     "name": "stdout",
     "output_type": "stream",
     "text": [
      "[[1 2 3]\n",
      " [4 5 6]\n",
      " [7 8 9]]\n",
      "15\n"
     ]
    }
   ],
   "source": [
    "# Exercise 33\n",
    "matrix = np.array([[1, 2, 3],\n",
    "                   [4, 5, 6],\n",
    "                   [7, 8, 9]])\n",
    "trace = np.trace(matrix)\n",
    "print (matrix)\n",
    "print( trace)"
   ]
  },
  {
   "cell_type": "markdown",
   "id": "74f1f77e",
   "metadata": {},
   "source": [
    "\n",
    "---\n",
    "\n",
    "### Exercise 34:\n",
    "Create a 2D array and swap two rows.\n"
   ]
  },
  {
   "cell_type": "code",
   "execution_count": 102,
   "id": "24621129",
   "metadata": {},
   "outputs": [
    {
     "name": "stdout",
     "output_type": "stream",
     "text": [
      "[[1 2 3]\n",
      " [4 5 6]\n",
      " [7 8 9]]\n",
      "[[7 8 9]\n",
      " [4 5 6]\n",
      " [1 2 3]]\n"
     ]
    }
   ],
   "source": [
    "# Exercise 34\n",
    "arr = np.array([[1, 2, 3],\n",
    "                [4, 5, 6],\n",
    "                [7, 8, 9]])\n",
    "print(arr)\n",
    "arr[[0, 2]] = arr[[2, 0]]\n",
    "print( arr)"
   ]
  },
  {
   "cell_type": "markdown",
   "id": "7875d348",
   "metadata": {},
   "source": [
    "\n",
    "---\n",
    "\n",
    "### Exercise 35:\n",
    "Create a 1D NumPy array and convert it into a column vector.\n"
   ]
  },
  {
   "cell_type": "code",
   "execution_count": 104,
   "id": "0039acda",
   "metadata": {},
   "outputs": [
    {
     "name": "stdout",
     "output_type": "stream",
     "text": [
      "[1 2 3 4 5]\n",
      "[[1]\n",
      " [2]\n",
      " [3]\n",
      " [4]\n",
      " [5]]\n"
     ]
    }
   ],
   "source": [
    "# Exercise 35\n",
    "arr = np.array([1, 2, 3, 4, 5])\n",
    "column_vector = arr.reshape(-1, 1)\n",
    "\n",
    "print( arr)\n",
    "print( column_vector)"
   ]
  },
  {
   "cell_type": "markdown",
   "id": "234e605c",
   "metadata": {},
   "source": [
    "\n",
    "---\n",
    "\n",
    "### Exercise 36:\n",
    "Find the determinant of a 3x3 matrix.\n"
   ]
  },
  {
   "cell_type": "code",
   "execution_count": 106,
   "id": "9798d9c7",
   "metadata": {},
   "outputs": [
    {
     "name": "stdout",
     "output_type": "stream",
     "text": [
      "[[ 2  5  3]\n",
      " [ 1 -2 -1]\n",
      " [ 1  3  4]]\n",
      "-20.000000000000007\n"
     ]
    }
   ],
   "source": [
    "# Exercise 36\n",
    "matrix = np.array([[2, 5, 3],\n",
    "                   [1, -2, -1],\n",
    "                   [1, 3, 4]])\n",
    "determinant = np.linalg.det(matrix)\n",
    "print(matrix)\n",
    "print(determinant)\n"
   ]
  },
  {
   "cell_type": "markdown",
   "id": "6656af00",
   "metadata": {},
   "source": [
    "\n",
    "---\n",
    "\n",
    "### Exercise 37:\n",
    "Find the eigenvalues and eigenvectors of a 2x2 matrix.\n"
   ]
  },
  {
   "cell_type": "code",
   "execution_count": 109,
   "id": "89d64421",
   "metadata": {},
   "outputs": [
    {
     "name": "stdout",
     "output_type": "stream",
     "text": [
      "[[4 2]\n",
      " [1 3]]\n",
      "[5. 2.]\n",
      "[[ 0.89442719 -0.70710678]\n",
      " [ 0.4472136   0.70710678]]\n"
     ]
    }
   ],
   "source": [
    "# Exercise 37\n",
    "A = np.array([[4, 2],\n",
    "              [1, 3]])\n",
    "eigenvalues, eigenvectors = np.linalg.eig(A)\n",
    "print( A)\n",
    "print( eigenvalues)\n",
    "print( eigenvectors)\n"
   ]
  },
  {
   "cell_type": "markdown",
   "id": "7dc92bbb",
   "metadata": {},
   "source": [
    "\n",
    "---\n",
    "\n",
    "### Exercise 38:\n",
    "Solve a system of linear equations using NumPy.\n"
   ]
  },
  {
   "cell_type": "code",
   "execution_count": 115,
   "id": "9aad2d7e",
   "metadata": {},
   "outputs": [
    {
     "name": "stdout",
     "output_type": "stream",
     "text": [
      "1.0\n",
      "2.0\n"
     ]
    }
   ],
   "source": [
    "# Exercise 38\n",
    "A = np.array([[2, 3],\n",
    "              [5, 4]])\n",
    "b = np.array([8, 13])\n",
    "x = np.linalg.solve(A, b)\n",
    "print( x[0])\n",
    "print( x[1])"
   ]
  },
  {
   "cell_type": "markdown",
   "id": "4f146ae7",
   "metadata": {},
   "source": [
    "\n",
    "---\n",
    "\n",
    "### Exercise 39:\n",
    "Add Gaussian noise to a NumPy array.\n"
   ]
  },
  {
   "cell_type": "code",
   "execution_count": 117,
   "id": "1162c82d",
   "metadata": {},
   "outputs": [
    {
     "name": "stdout",
     "output_type": "stream",
     "text": [
      "[1. 2. 3. 4. 5.]\n"
     ]
    }
   ],
   "source": [
    "# Exercise 39\n",
    "arr = np.array([1, 2, 3, 4, 5], dtype=float)\n",
    "print(arr)"
   ]
  },
  {
   "cell_type": "markdown",
   "id": "24f6d12f",
   "metadata": {},
   "source": [
    "\n",
    "---\n",
    "\n",
    "### Exercise 40:\n",
    "Create a 4x4 matrix and extract the diagonal elements.\n"
   ]
  },
  {
   "cell_type": "code",
   "execution_count": 119,
   "id": "228d823c",
   "metadata": {},
   "outputs": [
    {
     "name": "stdout",
     "output_type": "stream",
     "text": [
      "[[ 1  2  3  4]\n",
      " [ 5  6  7  8]\n",
      " [ 9 10 11 12]\n",
      " [13 14 15 16]]\n",
      "[ 1  6 11 16]\n"
     ]
    }
   ],
   "source": [
    "# Exercise 40\n",
    "matrix = np.array([[1, 2, 3, 4],\n",
    "                   [5, 6, 7, 8],\n",
    "                   [9, 10, 11, 12],\n",
    "                   [13, 14, 15, 16]])\n",
    "diagonal_elements = np.diag(matrix)\n",
    "print(matrix)\n",
    "print( diagonal_elements)"
   ]
  },
  {
   "cell_type": "markdown",
   "id": "6fe4e0e1",
   "metadata": {},
   "source": [
    "\n",
    "---\n",
    "\n",
    "### Exercise 41:\n",
    "Generate a NumPy array of 100 random values and clip the values to a range between 10 and 50.\n"
   ]
  },
  {
   "cell_type": "code",
   "execution_count": 121,
   "id": "250c818c",
   "metadata": {},
   "outputs": [
    {
     "name": "stdout",
     "output_type": "stream",
     "text": [
      "[18.84879496 16.61413735 23.04662984 53.66442482 54.54774887 43.18039629\n",
      "  1.42288568 60.28369929 76.61624162 29.46753157]\n",
      "[18.84879496 16.61413735 23.04662984 50.         50.         43.18039629\n",
      " 10.         50.         50.         29.46753157]\n"
     ]
    }
   ],
   "source": [
    "# Exercise 41\n",
    "arr = np.random.uniform(0, 100, 100)\n",
    "clipped_arr = np.clip(arr, 10, 50)\n",
    "print( arr[:10])      \n",
    "print( clipped_arr[:10]) "
   ]
  },
  {
   "cell_type": "markdown",
   "id": "0aa4963a",
   "metadata": {},
   "source": [
    "\n",
    "---\n",
    "\n",
    "### Exercise 42:\n",
    "Create a 2D NumPy array and replace all negative values with zero.\n"
   ]
  },
  {
   "cell_type": "code",
   "execution_count": 125,
   "id": "c33cf5e2",
   "metadata": {},
   "outputs": [
    {
     "name": "stdout",
     "output_type": "stream",
     "text": [
      "[[ 4 -3  2]\n",
      " [-1  5 -6]\n",
      " [ 7 -8  9]]\n",
      "[[4 0 2]\n",
      " [0 5 0]\n",
      " [7 0 9]]\n"
     ]
    }
   ],
   "source": [
    "# Exercise 42\n",
    "arr = np.array([[4, -3, 2],\n",
    "                [-1, 5, -6],\n",
    "                [7, -8, 9]])\n",
    "print(arr)\n",
    "arr[arr < 0] = 0\n",
    "print(arr)"
   ]
  },
  {
   "cell_type": "markdown",
   "id": "9902ee70",
   "metadata": {},
   "source": [
    "\n",
    "---\n",
    "\n",
    "### Exercise 43:\n",
    "Find the inner and outer products of two NumPy arrays.\n"
   ]
  },
  {
   "cell_type": "code",
   "execution_count": 127,
   "id": "36f488c8",
   "metadata": {},
   "outputs": [
    {
     "name": "stdout",
     "output_type": "stream",
     "text": [
      "[1 2 3]\n",
      "[4 5 6]\n",
      "32\n",
      "[[ 4  5  6]\n",
      " [ 8 10 12]\n",
      " [12 15 18]]\n"
     ]
    }
   ],
   "source": [
    "# Exercise 43\n",
    "a = np.array([1, 2, 3])\n",
    "b = np.array([4, 5, 6])\n",
    "inner_product = np.inner(a, b)\n",
    "outer_product = np.outer(a, b)\n",
    "print( a)\n",
    "print( b)\n",
    "print( inner_product)\n",
    "print( outer_product)\n"
   ]
  },
  {
   "cell_type": "markdown",
   "id": "7dce9fa3",
   "metadata": {},
   "source": [
    "\n",
    "---\n",
    "\n",
    "### Exercise 44:\n",
    "Calculate the pairwise distances between points in a NumPy array.\n"
   ]
  },
  {
   "cell_type": "code",
   "execution_count": 137,
   "id": "94067655",
   "metadata": {},
   "outputs": [
    {
     "name": "stdout",
     "output_type": "stream",
     "text": [
      "Pairwise distances:\n",
      " [[0.         5.         8.48528137 1.41421356]\n",
      " [5.         0.         3.60555128 5.38516481]\n",
      " [8.48528137 3.60555128 0.         8.60232527]\n",
      " [1.41421356 5.38516481 8.60232527 0.        ]]\n"
     ]
    }
   ],
   "source": [
    "# Exercise 44\n",
    "points = np.array([[1, 2],\n",
    "                   [4, 6],\n",
    "                   [7, 8],\n",
    "                   [2, 1]])\n",
    "diffs = points[:, np.newaxis, :] - points[np.newaxis, :, :]  \n",
    "distances = np.sqrt(np.sum(diffs**2, axis=-1))\n",
    "print( distances)"
   ]
  },
  {
   "cell_type": "markdown",
   "id": "d4b272d3",
   "metadata": {},
   "source": [
    "\n",
    "---\n",
    "\n",
    "### Exercise 45:\n",
    "Create a structured NumPy array with fields for `name`, `age`, and `height`.\n"
   ]
  },
  {
   "cell_type": "code",
   "execution_count": 42,
   "id": "9b18e4f0",
   "metadata": {},
   "outputs": [
    {
     "name": "stdout",
     "output_type": "stream",
     "text": [
      "[('Alice', 25, 5.5) ('Bob', 30, 6.1) ('Charlie', 22, 5.8)]\n",
      "['Alice' 'Bob' 'Charlie']\n",
      "[25 30 22]\n",
      "[5.5 6.1 5.8]\n"
     ]
    }
   ],
   "source": [
    "# Exercise 45\n",
    "dtype = [('name', 'U10'), ('age', 'i4'), ('height', 'f4')]\n",
    "data = np.array([\n",
    "    ('Alice', 25, 5.5),\n",
    "    ('Bob', 30, 6.1),\n",
    "    ('Charlie', 22, 5.8)\n",
    "], dtype=dtype)\n",
    "print(data)\n",
    "print(data['name'])\n",
    "print(data['age'])\n",
    "print(data['height'])\n"
   ]
  },
  {
   "cell_type": "markdown",
   "id": "577f3e80",
   "metadata": {},
   "source": [
    "\n",
    "---\n",
    "\n",
    "### Exercise 46:\n",
    "Create a 5x5 matrix of random integers and count the occurrences of each unique value.\n"
   ]
  },
  {
   "cell_type": "code",
   "execution_count": 145,
   "id": "639b01fd",
   "metadata": {},
   "outputs": [
    {
     "name": "stdout",
     "output_type": "stream",
     "text": [
      "Matrix:\n",
      " [[6 0 0 7 8]\n",
      " [4 5 1 5 5]\n",
      " [3 1 4 2 7]\n",
      " [3 7 6 1 2]\n",
      " [2 7 4 6 8]]\n",
      "\n",
      "Value counts:\n",
      "0: 2\n",
      "1: 3\n",
      "2: 3\n",
      "3: 2\n",
      "4: 3\n",
      "5: 3\n",
      "6: 3\n",
      "7: 4\n",
      "8: 2\n"
     ]
    }
   ],
   "source": [
    "# Exercise 46\n",
    "matrix = np.random.randint(0, 10, size=(5, 5))\n",
    "unique_values, counts = np.unique(matrix, return_counts=True)\n",
    "\n",
    "print(\"Matrix:\\n\", matrix)\n",
    "print(\"\\nValue counts:\")\n",
    "for val, count in zip(unique_values, counts):\n",
    "    print(f\"{val}: {count}\")"
   ]
  },
  {
   "cell_type": "markdown",
   "id": "e716555f",
   "metadata": {},
   "source": [
    "\n",
    "---\n",
    "\n",
    "### Exercise 47:\n",
    "Generate a random 3x3 NumPy array and subtract the mean of each row from the corresponding row.\n"
   ]
  },
  {
   "cell_type": "code",
   "execution_count": 147,
   "id": "03747d27",
   "metadata": {},
   "outputs": [
    {
     "name": "stdout",
     "output_type": "stream",
     "text": [
      "[[0.39964259 0.53360978 0.99645742]\n",
      " [0.10575797 0.0269279  0.79084423]\n",
      " [0.33185871 0.06561163 0.56725026]]\n",
      "[[0.64323659]\n",
      " [0.30784337]\n",
      " [0.32157353]]\n",
      "[[-0.24359401 -0.10962682  0.35322083]\n",
      " [-0.2020854  -0.28091546  0.48300086]\n",
      " [ 0.01028518 -0.25596191  0.24567673]]\n"
     ]
    }
   ],
   "source": [
    "# Exercise 47\n",
    "arr = np.random.rand(3, 3)\n",
    "row_means = arr.mean(axis=1).reshape(3, 1)\n",
    "result = arr - row_means\n",
    "print( arr)\n",
    "print( row_means)\n",
    "print( result)"
   ]
  },
  {
   "cell_type": "markdown",
   "id": "89148fb1",
   "metadata": {},
   "source": [
    "\n",
    "---\n",
    "\n",
    "### Exercise 48:\n",
    "Create a NumPy array of random integers and check if any of the values are greater than 50.\n"
   ]
  },
  {
   "cell_type": "code",
   "execution_count": 149,
   "id": "d329ca63",
   "metadata": {},
   "outputs": [
    {
     "name": "stdout",
     "output_type": "stream",
     "text": [
      "[69 58 86 33 21 82 79 59 94 90 97 10 39 56 23 71 50 30 88 57]\n",
      "True\n"
     ]
    }
   ],
   "source": [
    "# Exercise 48\n",
    "arr = np.random.randint(0, 101, size=20)\n",
    "any_greater_than_50 = np.any(arr > 50)\n",
    "print( arr)\n",
    "print( any_greater_than_50)"
   ]
  },
  {
   "cell_type": "markdown",
   "id": "806622f5",
   "metadata": {},
   "source": [
    "\n",
    "---\n",
    "\n",
    "### Exercise 49:\n",
    "Calculate the moving average of a 1D NumPy array.\n"
   ]
  },
  {
   "cell_type": "code",
   "execution_count": 151,
   "id": "866232ff",
   "metadata": {},
   "outputs": [
    {
     "name": "stdout",
     "output_type": "stream",
     "text": [
      "[10 20 30 40 50 60 70]\n",
      "[20. 30. 40. 50. 60.]\n"
     ]
    }
   ],
   "source": [
    "# Exercise 49\n",
    "arr = np.array([10, 20, 30, 40, 50, 60, 70])\n",
    "window_size = 3\n",
    "moving_avg = np.convolve(arr, np.ones(window_size)/window_size, mode='valid')\n",
    "\n",
    "print(arr)\n",
    "print(moving_avg)"
   ]
  },
  {
   "cell_type": "markdown",
   "id": "9313446b",
   "metadata": {},
   "source": [
    "\n",
    "---\n",
    "\n",
    "### Exercise 50:\n",
    "Find the Pearson correlation coefficient between two NumPy arrays.\n"
   ]
  },
  {
   "cell_type": "code",
   "execution_count": 153,
   "id": "09c184ab",
   "metadata": {},
   "outputs": [
    {
     "name": "stdout",
     "output_type": "stream",
     "text": [
      "[[1. 1.]\n",
      " [1. 1.]]\n",
      "1.0\n"
     ]
    }
   ],
   "source": [
    "# Exercise 50\n",
    "x = np.array([10, 20, 30, 40, 50])\n",
    "y = np.array([5, 15, 25, 35, 45])\n",
    "corr_matrix = np.corrcoef(x, y)\n",
    "pearson_corr = corr_matrix[0, 1]\n",
    "\n",
    "print(corr_matrix)\n",
    "print(pearson_corr)"
   ]
  },
  {
   "cell_type": "markdown",
   "id": "8ee11395",
   "metadata": {},
   "source": [
    "\n",
    "---\n",
    "\n",
    "### Exercise 51:\n",
    "Convert a NumPy array of radians to degrees.\n"
   ]
  },
  {
   "cell_type": "code",
   "execution_count": 155,
   "id": "34ac5b8c",
   "metadata": {},
   "outputs": [
    {
     "name": "stdout",
     "output_type": "stream",
     "text": [
      "[0.         0.52359878 0.78539816 1.57079633 3.14159265]\n",
      "[  0.  30.  45.  90. 180.]\n"
     ]
    }
   ],
   "source": [
    "# Exercise 51\n",
    "radians = np.array([0, np.pi/6, np.pi/4, np.pi/2, np.pi])\n",
    "degrees = np.degrees(radians)\n",
    "print( radians)\n",
    "print(degrees)"
   ]
  },
  {
   "cell_type": "markdown",
   "id": "f4fd9563",
   "metadata": {},
   "source": [
    "\n",
    "---\n",
    "\n",
    "### Exercise 52:\n",
    "Create a random NumPy array and compute its variance and standard deviation.\n"
   ]
  },
  {
   "cell_type": "code",
   "execution_count": 157,
   "id": "0559791a",
   "metadata": {},
   "outputs": [
    {
     "name": "stdout",
     "output_type": "stream",
     "text": [
      "[27 41 65 63  1  0 21  3 53 16]\n",
      "571.0\n",
      "23.895606290697042\n"
     ]
    }
   ],
   "source": [
    "# Exercise 52\n",
    "arr = np.random.randint(0, 101, size=10)\n",
    "variance = np.var(arr)\n",
    "std_deviation = np.std(arr)\n",
    "print(arr)\n",
    "print(variance)\n",
    "print(std_deviation)"
   ]
  },
  {
   "cell_type": "markdown",
   "id": "b5bed93d",
   "metadata": {},
   "source": [
    "\n",
    "---\n",
    "\n",
    "### Exercise 53:\n",
    "Create a 2D NumPy array and find the indices of the maximum values along each axis.\n"
   ]
  },
  {
   "cell_type": "code",
   "execution_count": 159,
   "id": "37168529",
   "metadata": {},
   "outputs": [
    {
     "name": "stdout",
     "output_type": "stream",
     "text": [
      "[[10 25  8]\n",
      " [35 12 50]\n",
      " [ 5 40 30]]\n"
     ]
    }
   ],
   "source": [
    "# Exercise 53\n",
    "arr = np.array([[10, 25, 8],\n",
    "                [35, 12, 50],\n",
    "                [5, 40, 30]])\n",
    "max_indices_row = np.argmax(arr, axis=1)  \n",
    "max_indices_col = np.argmax(arr, axis=0)  \n",
    "print(arr)"
   ]
  },
  {
   "cell_type": "markdown",
   "id": "fd672293",
   "metadata": {},
   "source": [
    "\n",
    "---\n",
    "\n",
    "### Exercise 54:\n",
    "Compute the inverse of a 2x2 NumPy matrix.\n"
   ]
  },
  {
   "cell_type": "code",
   "execution_count": 44,
   "id": "d9eebfee",
   "metadata": {},
   "outputs": [
    {
     "name": "stdout",
     "output_type": "stream",
     "text": [
      "[[4 7]\n",
      " [2 6]]\n",
      "[[ 0.6 -0.7]\n",
      " [-0.2  0.4]]\n"
     ]
    }
   ],
   "source": [
    "# Exercise 54\n",
    "A = np.array([[4, 7],\n",
    "              [2, 6]])\n",
    "A_inv = np.linalg.inv(A)\n",
    "print( A)\n",
    "print( A_inv)"
   ]
  },
  {
   "cell_type": "markdown",
   "id": "d635d87b",
   "metadata": {},
   "source": [
    "\n",
    "---\n",
    "\n",
    "### Exercise 55:\n",
    "Create a NumPy array of 10 random values and standardize it (mean 0, variance 1).\n"
   ]
  },
  {
   "cell_type": "code",
   "execution_count": 51,
   "id": "dc8ffa7d",
   "metadata": {},
   "outputs": [
    {
     "name": "stdout",
     "output_type": "stream",
     "text": [
      "[0.66521551 0.96680612 0.62537991 0.42607036 0.00841928 0.4688118\n",
      " 0.90638429 0.32192892 0.07584201 0.53128998]\n",
      "[ 0.55610818  1.56888782  0.42233519 -0.24697166 -1.64949709 -0.10344046\n",
      "  1.36598364 -0.59669186 -1.42308299  0.10636923]\n"
     ]
    }
   ],
   "source": [
    "# Exercise 55\n",
    "arr = np.random.rand(10)  \n",
    "mean = np.mean(arr)\n",
    "std = np.std(arr)\n",
    "standardized_arr = (arr - mean) / std\n",
    "print(arr)\n",
    "print(standardized_arr)"
   ]
  },
  {
   "cell_type": "markdown",
   "id": "6db1e281",
   "metadata": {},
   "source": [
    "\n",
    "---\n",
    "\n",
    "### Exercise 56:\n",
    "Perform element-wise addition and subtraction on two NumPy arrays.\n"
   ]
  },
  {
   "cell_type": "code",
   "execution_count": 53,
   "id": "e8d4d852",
   "metadata": {},
   "outputs": [
    {
     "name": "stdout",
     "output_type": "stream",
     "text": [
      "[1 2 3 4 5]\n",
      "[5 4 3 2 1]\n",
      "[6 6 6 6 6]\n",
      "[-4 -2  0  2  4]\n"
     ]
    }
   ],
   "source": [
    "# Exercise 56\n",
    "a = np.array([1, 2, 3, 4, 5])\n",
    "b = np.array([5, 4, 3, 2, 1])\n",
    "addition = a + b\n",
    "subtraction = a - b\n",
    "\n",
    "print(a)\n",
    "print( b)\n",
    "print( addition)\n",
    "print(subtraction)\n"
   ]
  },
  {
   "cell_type": "markdown",
   "id": "843ba956",
   "metadata": {},
   "source": [
    "\n",
    "---\n",
    "\n",
    "### Exercise 57:\n",
    "Create a NumPy array of random values and find the maximum element's index.\n"
   ]
  },
  {
   "cell_type": "code",
   "execution_count": 11,
   "id": "e4cbc318",
   "metadata": {},
   "outputs": [
    {
     "name": "stdout",
     "output_type": "stream",
     "text": [
      "6\n"
     ]
    }
   ],
   "source": [
    "# Exercise 57\n",
    "import numpy as np\n",
    "arr=np.random.rand(10)\n",
    "max_index=np.argmax(arr)\n",
    "print(max_index)"
   ]
  },
  {
   "cell_type": "markdown",
   "id": "e8356250",
   "metadata": {},
   "source": [
    "\n",
    "---\n",
    "\n",
    "### Exercise 58:\n",
    "Create a 3x3 NumPy array and rotate it by 90 degrees.\n"
   ]
  },
  {
   "cell_type": "code",
   "execution_count": 13,
   "id": "f80c6616",
   "metadata": {},
   "outputs": [
    {
     "name": "stdout",
     "output_type": "stream",
     "text": [
      "[[1 2 3]\n",
      " [4 5 6]\n",
      " [7 8 9]]\n",
      "[[3 6 9]\n",
      " [2 5 8]\n",
      " [1 4 7]]\n"
     ]
    }
   ],
   "source": [
    "# Exercise 58\n",
    "arr = np.array([[1, 2, 3],\n",
    "                [4, 5, 6],\n",
    "                [7, 8, 9]])\n",
    "rotated_arr = np.rot90(arr)\n",
    "print(arr)\n",
    "print(rotated_arr)"
   ]
  },
  {
   "cell_type": "markdown",
   "id": "5bdbf96d",
   "metadata": {},
   "source": [
    "\n",
    "---\n",
    "\n",
    "### Exercise 59:\n",
    "Compute the Frobenius norm of a matrix.\n"
   ]
  },
  {
   "cell_type": "code",
   "execution_count": 15,
   "id": "bb81b41a",
   "metadata": {},
   "outputs": [
    {
     "name": "stdout",
     "output_type": "stream",
     "text": [
      "[[1 2 3]\n",
      " [4 5 6]\n",
      " [7 8 9]]\n",
      "16.881943016134134\n"
     ]
    }
   ],
   "source": [
    "# Exercise 59\n",
    "A = np.array([[1, 2, 3],\n",
    "              [4, 5, 6],\n",
    "              [7, 8, 9]])\n",
    "fro_norm = np.linalg.norm(A, 'fro')\n",
    "print(A)\n",
    "print(fro_norm)"
   ]
  },
  {
   "cell_type": "markdown",
   "id": "9388b0db",
   "metadata": {},
   "source": [
    "\n",
    "---\n",
    "\n",
    "### Exercise 60:\n",
    "Create a 3D NumPy array and slice out a subarray.\n"
   ]
  },
  {
   "cell_type": "code",
   "execution_count": 17,
   "id": "f051d3a2",
   "metadata": {},
   "outputs": [
    {
     "name": "stdout",
     "output_type": "stream",
     "text": [
      "Original 3D array:\n",
      " [[[ 0  1  2  3  4]\n",
      "  [ 5  6  7  8  9]\n",
      "  [10 11 12 13 14]\n",
      "  [15 16 17 18 19]]\n",
      "\n",
      " [[20 21 22 23 24]\n",
      "  [25 26 27 28 29]\n",
      "  [30 31 32 33 34]\n",
      "  [35 36 37 38 39]]\n",
      "\n",
      " [[40 41 42 43 44]\n",
      "  [45 46 47 48 49]\n",
      "  [50 51 52 53 54]\n",
      "  [55 56 57 58 59]]]\n",
      "[[[ 6  7  8]\n",
      "  [11 12 13]]\n",
      "\n",
      " [[26 27 28]\n",
      "  [31 32 33]]]\n",
      "(2, 2, 3)\n"
     ]
    }
   ],
   "source": [
    "# Exercise 60\n",
    "arr = np.arange(3*4*5).reshape(3, 4, 5)\n",
    "print( arr)\n",
    "subarray = arr[0:2, 1:3, 1:4]\n",
    "print(subarray)\n",
    "print(subarray.shape)\n",
    "\n"
   ]
  },
  {
   "cell_type": "markdown",
   "id": "9cb79001",
   "metadata": {},
   "source": [
    "\n",
    "---"
   ]
  }
 ],
 "metadata": {
  "kernelspec": {
   "display_name": "Python [conda env:base] *",
   "language": "python",
   "name": "conda-base-py"
  },
  "language_info": {
   "codemirror_mode": {
    "name": "ipython",
    "version": 3
   },
   "file_extension": ".py",
   "mimetype": "text/x-python",
   "name": "python",
   "nbconvert_exporter": "python",
   "pygments_lexer": "ipython3",
   "version": "3.12.7"
  }
 },
 "nbformat": 4,
 "nbformat_minor": 5
}
